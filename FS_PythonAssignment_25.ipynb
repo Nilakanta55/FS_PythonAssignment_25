{
 "cells": [
  {
   "cell_type": "markdown",
   "id": "b94a5634",
   "metadata": {},
   "source": [
    "### 1.What is the difference between enclosing a list comprehension in square brackets and parentheses?"
   ]
  },
  {
   "cell_type": "markdown",
   "id": "4e626ca1",
   "metadata": {},
   "source": [
    "Braces (\"curly braces\")\n",
    "\n",
    "Braces are used to group statements and declarations.\n",
    "The contents of a class or interface are enclosed in braces.\n",
    "Method bodies and constructor bodies are enclosed in braces.\n",
    "Braces are used to group the statements in an if statement, a loop, or other control structures.\n",
    "\n",
    "Brackets (\"square brackets\")\n",
    "\n",
    "Brackets are used to index into an array.\n",
    "\n",
    "Parentheses\n",
    "\n",
    "Parentheses are used for two purposes: (1) to control the order of operations in an expression, and (2) to supply parameters to a constructor or method."
   ]
  },
  {
   "cell_type": "code",
   "execution_count": 2,
   "id": "68812c1c",
   "metadata": {},
   "outputs": [
    {
     "data": {
      "text/plain": [
       "2"
      ]
     },
     "execution_count": 2,
     "metadata": {},
     "output_type": "execute_result"
    }
   ],
   "source": [
    "x=[1,2]\n",
    "x[1]"
   ]
  },
  {
   "cell_type": "code",
   "execution_count": 3,
   "id": "a7ac4aba",
   "metadata": {},
   "outputs": [
    {
     "data": {
      "text/plain": [
       "2"
      ]
     },
     "execution_count": 3,
     "metadata": {},
     "output_type": "execute_result"
    }
   ],
   "source": [
    "x=(1,2)\n",
    "x[1]"
   ]
  },
  {
   "cell_type": "markdown",
   "id": "0223a541",
   "metadata": {},
   "source": [
    "Square brackets are lists while parentheses are tuples\n",
    "\n",
    "A list is mutable, meaning you can change its contents:"
   ]
  },
  {
   "cell_type": "code",
   "execution_count": 4,
   "id": "36f9c2f2",
   "metadata": {},
   "outputs": [
    {
     "data": {
      "text/plain": [
       "[1, 2, 3]"
      ]
     },
     "execution_count": 4,
     "metadata": {},
     "output_type": "execute_result"
    }
   ],
   "source": [
    "x = [1,2]\n",
    "x.append(3)\n",
    "x"
   ]
  },
  {
   "cell_type": "markdown",
   "id": "29a975b8",
   "metadata": {},
   "source": [
    "while tuples are not:"
   ]
  },
  {
   "cell_type": "code",
   "execution_count": 5,
   "id": "56c4eb01",
   "metadata": {},
   "outputs": [
    {
     "ename": "AttributeError",
     "evalue": "'tuple' object has no attribute 'append'",
     "output_type": "error",
     "traceback": [
      "\u001b[1;31m---------------------------------------------------------------------------\u001b[0m",
      "\u001b[1;31mAttributeError\u001b[0m                            Traceback (most recent call last)",
      "\u001b[1;32m<ipython-input-5-4ed492981b72>\u001b[0m in \u001b[0;36m<module>\u001b[1;34m\u001b[0m\n\u001b[0;32m      1\u001b[0m \u001b[0mx\u001b[0m \u001b[1;33m=\u001b[0m \u001b[1;33m(\u001b[0m\u001b[1;36m1\u001b[0m\u001b[1;33m,\u001b[0m\u001b[1;36m2\u001b[0m\u001b[1;33m)\u001b[0m\u001b[1;33m\u001b[0m\u001b[1;33m\u001b[0m\u001b[0m\n\u001b[0;32m      2\u001b[0m \u001b[0mx\u001b[0m\u001b[1;33m\u001b[0m\u001b[1;33m\u001b[0m\u001b[0m\n\u001b[1;32m----> 3\u001b[1;33m \u001b[0mx\u001b[0m\u001b[1;33m.\u001b[0m\u001b[0mappend\u001b[0m\u001b[1;33m(\u001b[0m\u001b[1;36m3\u001b[0m\u001b[1;33m)\u001b[0m\u001b[1;33m\u001b[0m\u001b[1;33m\u001b[0m\u001b[0m\n\u001b[0m",
      "\u001b[1;31mAttributeError\u001b[0m: 'tuple' object has no attribute 'append'"
     ]
    }
   ],
   "source": [
    "x = (1,2)\n",
    "x\n",
    "x.append(3)"
   ]
  },
  {
   "cell_type": "markdown",
   "id": "814223ae",
   "metadata": {},
   "source": [
    "One interesting difference :"
   ]
  },
  {
   "cell_type": "code",
   "execution_count": null,
   "id": "de3d6b3d",
   "metadata": {},
   "outputs": [],
   "source": [
    "lst=[1]\n",
    "print lst          // prints [1]\n",
    "print type(lst)    // prints <type 'list'>\n",
    "\n",
    "notATuple=(1)\n",
    "print notATuple        // prints 1\n",
    "print type(notATuple)  // prints <type 'int'>\n",
    "                                         ^^ instead of tuple(expected)"
   ]
  },
  {
   "cell_type": "markdown",
   "id": "ae138220",
   "metadata": {},
   "source": [
    "A comma must be included in a tuple even if it contains only a single value. e.g. (1,) instead of (1)."
   ]
  },
  {
   "cell_type": "code",
   "execution_count": null,
   "id": "f64f3a16",
   "metadata": {},
   "outputs": [],
   "source": []
  },
  {
   "cell_type": "markdown",
   "id": "3de293ba",
   "metadata": {},
   "source": [
    "They are not lists, they are a list and a tuple. You can read about tuples in the Python tutorial. While you can mutate lists, this is not possible with tuples."
   ]
  },
  {
   "cell_type": "code",
   "execution_count": 8,
   "id": "85dd79d1",
   "metadata": {},
   "outputs": [
    {
     "ename": "TypeError",
     "evalue": "'tuple' object does not support item assignment",
     "output_type": "error",
     "traceback": [
      "\u001b[1;31m---------------------------------------------------------------------------\u001b[0m",
      "\u001b[1;31mTypeError\u001b[0m                                 Traceback (most recent call last)",
      "\u001b[1;32m<ipython-input-8-e35aa41a1217>\u001b[0m in \u001b[0;36m<module>\u001b[1;34m\u001b[0m\n\u001b[0;32m      1\u001b[0m \u001b[0mx\u001b[0m \u001b[1;33m=\u001b[0m \u001b[1;33m(\u001b[0m\u001b[1;36m1\u001b[0m\u001b[1;33m,\u001b[0m \u001b[1;36m2\u001b[0m\u001b[1;33m)\u001b[0m\u001b[1;33m\u001b[0m\u001b[1;33m\u001b[0m\u001b[0m\n\u001b[0;32m      2\u001b[0m \u001b[1;33m\u001b[0m\u001b[0m\n\u001b[1;32m----> 3\u001b[1;33m \u001b[0mx\u001b[0m\u001b[1;33m[\u001b[0m\u001b[1;36m0\u001b[0m\u001b[1;33m]\u001b[0m \u001b[1;33m=\u001b[0m \u001b[1;36m3\u001b[0m\u001b[1;33m\u001b[0m\u001b[1;33m\u001b[0m\u001b[0m\n\u001b[0m",
      "\u001b[1;31mTypeError\u001b[0m: 'tuple' object does not support item assignment"
     ]
    }
   ],
   "source": [
    "In [1]: x = (1, 2)\n",
    "\n",
    "In [2]: x[0] = 3"
   ]
  },
  {
   "cell_type": "markdown",
   "id": "c9ad6755",
   "metadata": {},
   "source": [
    "Another way brackets and parentheses differ is that square brackets can describe a list comprehension, e.g. [x for x in y]\n",
    "\n",
    "Whereas the corresponding parenthetic syntax specifies a tuple generator: (x for x in y)\n",
    "\n",
    "You can get a tuple comprehension using: tuple(x for x in y)"
   ]
  },
  {
   "cell_type": "code",
   "execution_count": null,
   "id": "c3f09721",
   "metadata": {},
   "outputs": [],
   "source": []
  },
  {
   "cell_type": "markdown",
   "id": "e75aa838",
   "metadata": {},
   "source": [
    "### 2. What is the relationship between generators and iterators?"
   ]
  },
  {
   "cell_type": "markdown",
   "id": "203a2d62",
   "metadata": {},
   "source": [
    "Iterator\n",
    "An iterator is an object which contains a countable number of values and it is used to iterate over iterable objects like list, tuples, sets, etc. Iterators are implemented using a class and a local variable for iterating is not required here, It follows lazy evaluation where the evaluation of the expression will be on hold and stored in the memory until the item is called specifically which helps us to avoid repeated evaluation. As lazy evaluation is implemented, it requires only 1 memory location to process the value and when we are using a large dataset then, wastage of RAM space will be reduced the need to load the entire dataset at the same time will not be there.\n",
    "\n",
    "Using an iterator-\n",
    "\n",
    "iter() keyword is used to create an iterator containing an iterable object.\n",
    "next() keyword is used to call the next element in the iterable object.\n",
    "After the iterable object is completed, to use them again reassign them to the same object."
   ]
  },
  {
   "cell_type": "markdown",
   "id": "67232a58",
   "metadata": {},
   "source": [
    "Generators\n",
    "It is another way of creating iterators in a simple way where it uses the keyword “yield” instead of returning it in a defined function. Generators are implemented using a function. Just as iterators, generators also follow lazy evaluation. Here, the yield function returns the data without affecting or exiting the function. It will return a sequence of data in an iterable format where we need to iterate over the sequence to use the data as they won’t store the entire sequence in the memory."
   ]
  },
  {
   "attachments": {
    "image.png": {
     "image/png": "[encoded data removed]"
    }
   },
   "cell_type": "markdown",
   "id": "34283f51",
   "metadata": {},
   "source": [
    "![image.png](attachment:image.png)"
   ]
  },
  {
   "cell_type": "code",
   "execution_count": null,
   "id": "7fc831a6",
   "metadata": {},
   "outputs": [],
   "source": []
  },
  {
   "cell_type": "code",
   "execution_count": null,
   "id": "83a507e3",
   "metadata": {},
   "outputs": [],
   "source": []
  },
  {
   "cell_type": "markdown",
   "id": "69540679",
   "metadata": {},
   "source": [
    "### 3. What are the signs that a function is a generator function?"
   ]
  },
  {
   "cell_type": "markdown",
   "id": "e954951d",
   "metadata": {},
   "source": [
    "If a function contains at least one yield statement (it may contain other yield or return statements), it becomes a generator function. Both yield and return will return some value from a function.\n",
    "\n",
    "A Python generator is a function that produces a sequence of results. It works by maintaining its local state, so that the function can resume again exactly where it left off when called subsequent times. Thus, you can think of a generator as something like a powerful iterator."
   ]
  },
  {
   "cell_type": "code",
   "execution_count": null,
   "id": "8aa27eae",
   "metadata": {},
   "outputs": [],
   "source": []
  },
  {
   "cell_type": "markdown",
   "id": "58a3c5bd",
   "metadata": {},
   "source": [
    "### 4. What is the purpose of a yield statement?"
   ]
  },
  {
   "cell_type": "markdown",
   "id": "4d07193a",
   "metadata": {},
   "source": [
    "In its simplest form, a yield statement looks much like a return statement, except that instead of stopping execution of the function and returning, yield instead provides a value to the code looping over the generator and pauses execution of the generator function.\n",
    "\n",
    "yield in Python can be used like the return statement in a function. When done so, the function instead of returning the output, it returns a generator that can be iterated upon. You can then iterate through the generator to extract items. Iterating is done using a for loop or simply using the next() function. But what exactly happens when you use yield? What the yield keyword does is as follows: Each time you iterate, Python runs the code until it encounters a yield statement inside the function. Then, it sends the yielded value and pauses the function in that state without exiting. When the function is invoked the next time, the state at which it was last paused is remembered and execution is continued from that point onwards. This continues until the generator is exhausted. What does remembering the state mean? It means, any local variable you may have created inside the function before yield was called will be available the next time you invoke the function. This is NOT the way a regular function usually behaves. Now, how is it different from using the return keyword? Had you used return in place of yield, the function would have returned the respective value, all the local variable values that the function had earlier computed would be cleared off and the next time the function is called, the function execution will start fresh. Since the yield enables the function to remember its ‘state’, this function can be used to generate values in a logic defined by you. So, it function becomes a ‘generator’."
   ]
  },
  {
   "cell_type": "code",
   "execution_count": 9,
   "id": "6787c5db",
   "metadata": {},
   "outputs": [],
   "source": [
    "# Function returns a generator when it encounters 'yield'.\n",
    "def simple_generator():\n",
    "    x = 1\n",
    "    yield x\n",
    "    yield x + 1\n",
    "    yield x + 2"
   ]
  },
  {
   "cell_type": "code",
   "execution_count": 10,
   "id": "daf2cc1c",
   "metadata": {},
   "outputs": [
    {
     "data": {
      "text/plain": [
       "<generator object simple_generator at 0x000001F44C699820>"
      ]
     },
     "execution_count": 10,
     "metadata": {},
     "output_type": "execute_result"
    }
   ],
   "source": [
    "generator_object = simple_generator()\n",
    "generator_object  # only generator. no code runs. no value gets returned"
   ]
  },
  {
   "cell_type": "code",
   "execution_count": 11,
   "id": "ed2c6fba",
   "metadata": {},
   "outputs": [
    {
     "name": "stdout",
     "output_type": "stream",
     "text": [
      "1\n",
      "2\n",
      "3\n"
     ]
    }
   ],
   "source": [
    "for i in generator_object:\n",
    "    print(i)"
   ]
  },
  {
   "cell_type": "code",
   "execution_count": null,
   "id": "7aa169be",
   "metadata": {},
   "outputs": [],
   "source": []
  },
  {
   "cell_type": "markdown",
   "id": "57834f0e",
   "metadata": {},
   "source": [
    "### 5. What is the relationship between map calls and list comprehensions? Make a comparison and contrast between the two."
   ]
  },
  {
   "cell_type": "markdown",
   "id": "1e45255c",
   "metadata": {},
   "source": [
    "Map VS List Comprehension\n",
    "\n",
    "List comprehension is more concise and easier to read as compared to map.\n",
    "\n",
    "List comprehension allows filtering. In map, we have no such facility. For example, to print all even numbers in range of 100, we can write [n for n in range(100) if n%2 == 0]. There is no alternate for it in map\n",
    "\n",
    "List comprehension are used when a list of results is required as map only returns a map object and does not return any list.\n",
    "\n",
    "List comprehension is faster than map when we need to evaluate expressions that are too long or complicated to express\n",
    "\n",
    "Map is faster in case of calling an already defined function (as no lambda is required).\n",
    "Comparing Execution Time\n",
    "Note : We will be using an in-built python library ‘timeit‘."
   ]
  },
  {
   "cell_type": "code",
   "execution_count": null,
   "id": "91023450",
   "metadata": {},
   "outputs": [],
   "source": []
  },
  {
   "cell_type": "code",
   "execution_count": null,
   "id": "d8f3d66a",
   "metadata": {},
   "outputs": [],
   "source": []
  }
 ],
 "metadata": {
  "kernelspec": {
   "display_name": "Python 3",
   "language": "python",
   "name": "python3"
  },
  "language_info": {
   "codemirror_mode": {
    "name": "ipython",
    "version": 3
   },
   "file_extension": ".py",
   "mimetype": "text/x-python",
   "name": "python",
   "nbconvert_exporter": "python",
   "pygments_lexer": "ipython3",
   "version": "3.8.8"
  }
 },
 "nbformat": 4,
 "nbformat_minor": 5
}
